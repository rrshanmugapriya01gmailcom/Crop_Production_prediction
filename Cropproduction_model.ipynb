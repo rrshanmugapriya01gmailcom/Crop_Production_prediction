{
 "cells": [
  {
   "cell_type": "code",
   "execution_count": 1,
   "id": "49fcb881-e031-42e9-9cc3-b6b610cf6ae5",
   "metadata": {},
   "outputs": [],
   "source": [
    "import pandas as pd\n",
    "import numpy as np\n",
    "import matplotlib.pyplot as plt\n",
    "import seaborn as sns\n",
    "from sklearn.ensemble import RandomForestRegressor\n",
    "from sklearn.model_selection import train_test_split"
   ]
  },
  {
   "cell_type": "code",
   "execution_count": 2,
   "id": "366df8e0-67c0-4497-92a0-2d8ffb96b8aa",
   "metadata": {},
   "outputs": [
    {
     "data": {
      "text/html": [
       "<div>\n",
       "<style scoped>\n",
       "    .dataframe tbody tr th:only-of-type {\n",
       "        vertical-align: middle;\n",
       "    }\n",
       "\n",
       "    .dataframe tbody tr th {\n",
       "        vertical-align: top;\n",
       "    }\n",
       "\n",
       "    .dataframe thead th {\n",
       "        text-align: right;\n",
       "    }\n",
       "</style>\n",
       "<table border=\"1\" class=\"dataframe\">\n",
       "  <thead>\n",
       "    <tr style=\"text-align: right;\">\n",
       "      <th></th>\n",
       "      <th>Domain Code</th>\n",
       "      <th>Domain</th>\n",
       "      <th>Area Code (M49)</th>\n",
       "      <th>Area</th>\n",
       "      <th>Element Code</th>\n",
       "      <th>Element</th>\n",
       "      <th>Item Code (CPC)</th>\n",
       "      <th>Item</th>\n",
       "      <th>Year Code</th>\n",
       "      <th>Year</th>\n",
       "      <th>Unit</th>\n",
       "      <th>Value</th>\n",
       "      <th>Flag</th>\n",
       "      <th>Flag Description</th>\n",
       "      <th>Note</th>\n",
       "    </tr>\n",
       "  </thead>\n",
       "  <tbody>\n",
       "    <tr>\n",
       "      <th>0</th>\n",
       "      <td>QCL</td>\n",
       "      <td>Crops and livestock products</td>\n",
       "      <td>4</td>\n",
       "      <td>Afghanistan</td>\n",
       "      <td>5312</td>\n",
       "      <td>Area harvested</td>\n",
       "      <td>1371</td>\n",
       "      <td>Almonds, in shell</td>\n",
       "      <td>2019</td>\n",
       "      <td>2019</td>\n",
       "      <td>ha</td>\n",
       "      <td>29203.0</td>\n",
       "      <td>A</td>\n",
       "      <td>Official figure</td>\n",
       "      <td>NaN</td>\n",
       "    </tr>\n",
       "    <tr>\n",
       "      <th>1</th>\n",
       "      <td>QCL</td>\n",
       "      <td>Crops and livestock products</td>\n",
       "      <td>4</td>\n",
       "      <td>Afghanistan</td>\n",
       "      <td>5412</td>\n",
       "      <td>Yield</td>\n",
       "      <td>1371</td>\n",
       "      <td>Almonds, in shell</td>\n",
       "      <td>2019</td>\n",
       "      <td>2019</td>\n",
       "      <td>kg/ha</td>\n",
       "      <td>1308.3</td>\n",
       "      <td>A</td>\n",
       "      <td>Official figure</td>\n",
       "      <td>NaN</td>\n",
       "    </tr>\n",
       "    <tr>\n",
       "      <th>2</th>\n",
       "      <td>QCL</td>\n",
       "      <td>Crops and livestock products</td>\n",
       "      <td>4</td>\n",
       "      <td>Afghanistan</td>\n",
       "      <td>5510</td>\n",
       "      <td>Production</td>\n",
       "      <td>1371</td>\n",
       "      <td>Almonds, in shell</td>\n",
       "      <td>2019</td>\n",
       "      <td>2019</td>\n",
       "      <td>t</td>\n",
       "      <td>38205.0</td>\n",
       "      <td>A</td>\n",
       "      <td>Official figure</td>\n",
       "      <td>NaN</td>\n",
       "    </tr>\n",
       "    <tr>\n",
       "      <th>3</th>\n",
       "      <td>QCL</td>\n",
       "      <td>Crops and livestock products</td>\n",
       "      <td>4</td>\n",
       "      <td>Afghanistan</td>\n",
       "      <td>5312</td>\n",
       "      <td>Area harvested</td>\n",
       "      <td>1371</td>\n",
       "      <td>Almonds, in shell</td>\n",
       "      <td>2020</td>\n",
       "      <td>2020</td>\n",
       "      <td>ha</td>\n",
       "      <td>22134.0</td>\n",
       "      <td>A</td>\n",
       "      <td>Official figure</td>\n",
       "      <td>NaN</td>\n",
       "    </tr>\n",
       "    <tr>\n",
       "      <th>4</th>\n",
       "      <td>QCL</td>\n",
       "      <td>Crops and livestock products</td>\n",
       "      <td>4</td>\n",
       "      <td>Afghanistan</td>\n",
       "      <td>5412</td>\n",
       "      <td>Yield</td>\n",
       "      <td>1371</td>\n",
       "      <td>Almonds, in shell</td>\n",
       "      <td>2020</td>\n",
       "      <td>2020</td>\n",
       "      <td>kg/ha</td>\n",
       "      <td>1775.9</td>\n",
       "      <td>A</td>\n",
       "      <td>Official figure</td>\n",
       "      <td>NaN</td>\n",
       "    </tr>\n",
       "  </tbody>\n",
       "</table>\n",
       "</div>"
      ],
      "text/plain": [
       "  Domain Code                        Domain  Area Code (M49)         Area  \\\n",
       "0         QCL  Crops and livestock products                4  Afghanistan   \n",
       "1         QCL  Crops and livestock products                4  Afghanistan   \n",
       "2         QCL  Crops and livestock products                4  Afghanistan   \n",
       "3         QCL  Crops and livestock products                4  Afghanistan   \n",
       "4         QCL  Crops and livestock products                4  Afghanistan   \n",
       "\n",
       "   Element Code         Element Item Code (CPC)               Item  Year Code  \\\n",
       "0          5312  Area harvested            1371  Almonds, in shell       2019   \n",
       "1          5412           Yield            1371  Almonds, in shell       2019   \n",
       "2          5510      Production            1371  Almonds, in shell       2019   \n",
       "3          5312  Area harvested            1371  Almonds, in shell       2020   \n",
       "4          5412           Yield            1371  Almonds, in shell       2020   \n",
       "\n",
       "   Year   Unit    Value Flag Flag Description Note  \n",
       "0  2019     ha  29203.0    A  Official figure  NaN  \n",
       "1  2019  kg/ha   1308.3    A  Official figure  NaN  \n",
       "2  2019      t  38205.0    A  Official figure  NaN  \n",
       "3  2020     ha  22134.0    A  Official figure  NaN  \n",
       "4  2020  kg/ha   1775.9    A  Official figure  NaN  "
      ]
     },
     "execution_count": 2,
     "metadata": {},
     "output_type": "execute_result"
    }
   ],
   "source": [
    "df = pd.read_csv(r\"C:\\Users\\R.R. Dharun raagav\\Desktop\\Shanmuga priya projects Ml project\\FAOSTAT_data.csv\")\n",
    "df.head(5)"
   ]
  },
  {
   "cell_type": "code",
   "execution_count": 3,
   "id": "ff5794d2-c0b5-485f-a75a-4bf5ed9c60ff",
   "metadata": {},
   "outputs": [
    {
     "data": {
      "text/plain": [
       "Domain Code              0\n",
       "Domain                   0\n",
       "Area Code (M49)          0\n",
       "Area                     0\n",
       "Element Code             0\n",
       "Element                  0\n",
       "Item Code (CPC)          5\n",
       "Item                     0\n",
       "Year Code                0\n",
       "Year                     0\n",
       "Unit                     2\n",
       "Value                 6517\n",
       "Flag                     4\n",
       "Flag Description        13\n",
       "Note                219549\n",
       "dtype: int64"
      ]
     },
     "execution_count": 3,
     "metadata": {},
     "output_type": "execute_result"
    }
   ],
   "source": [
    "df.isnull().sum()"
   ]
  },
  {
   "cell_type": "code",
   "execution_count": 4,
   "id": "29512542-594a-4366-8897-900f9510aa3a",
   "metadata": {},
   "outputs": [],
   "source": [
    "df = df.drop(\"Note\" , axis=1)"
   ]
  },
  {
   "cell_type": "code",
   "execution_count": 5,
   "id": "99fd3443-c841-47ee-a4cf-96ca054b53b9",
   "metadata": {},
   "outputs": [],
   "source": [
    "unit_mapping = {\n",
    "    \"Area harvested\":\"ha\",\n",
    "    \"Yield\":\"kg/ha\",\n",
    "    \"Production\":\"t\"\n",
    "}\n",
    "df[\"Unit\"] = df[\"Unit\"].fillna(df[\"Element\"].map(unit_mapping))"
   ]
  },
  {
   "cell_type": "code",
   "execution_count": 6,
   "id": "8cbc9c84-3030-40a5-b0f3-62e6444ba2da",
   "metadata": {},
   "outputs": [
    {
     "name": "stdout",
     "output_type": "stream",
     "text": [
      "0\n"
     ]
    }
   ],
   "source": [
    "df[\"Item Code (CPC)\"] = df[\"Item Code (CPC)\"].ffill()\n",
    "print(df[\"Item Code (CPC)\"].isnull().sum())"
   ]
  },
  {
   "cell_type": "code",
   "execution_count": 7,
   "id": "81a22964-3cc7-4b54-a453-55ad5ab72f6e",
   "metadata": {},
   "outputs": [
    {
     "name": "stdout",
     "output_type": "stream",
     "text": [
      "0\n"
     ]
    }
   ],
   "source": [
    "df[\"Flag\"] = df[\"Flag\"].ffill()\n",
    "print(df[\"Flag\"].isnull().sum())"
   ]
  },
  {
   "cell_type": "code",
   "execution_count": 8,
   "id": "0d040c12-b738-4e2a-be39-1524181fd44a",
   "metadata": {},
   "outputs": [
    {
     "name": "stdout",
     "output_type": "stream",
     "text": [
      "{'A': 'Official figure', 'E': 'Estimated value', 'I': 'Imputed value', 'X': 'Figure from international organizations', 'M': 'Missing value (data cannot exist, not applicable)'}\n"
     ]
    }
   ],
   "source": [
    "unique_flags = df[[\"Flag\", \"Flag Description\"]].drop_duplicates()\n",
    "flag_mapping = df[[\"Flag\", \"Flag Description\"]].dropna().drop_duplicates().set_index(\"Flag\")[\"Flag Description\"].to_dict()\n",
    "\n",
    "print(flag_mapping)"
   ]
  },
  {
   "cell_type": "code",
   "execution_count": 9,
   "id": "d7e7c475-75e9-4569-ac8a-42db2a6b652b",
   "metadata": {},
   "outputs": [
    {
     "name": "stdout",
     "output_type": "stream",
     "text": [
      "0\n"
     ]
    }
   ],
   "source": [
    "df[\"Flag Description\"] = df[\"Flag Description\"].fillna(df[\"Flag\"].map(flag_mapping))\n",
    "print(df[\"Flag Description\"].isnull().sum())"
   ]
  },
  {
   "cell_type": "code",
   "execution_count": 10,
   "id": "298ca90f-7200-42c1-9970-7c095fdcd65e",
   "metadata": {},
   "outputs": [],
   "source": [
    "df[\"Value\"] = df.groupby([\"Area\", \"Item\", \"Year\"])[\"Value\"].transform(\n",
    "    lambda x: x.fillna(x.median()) if not x.isnull().all() else x\n",
    ")"
   ]
  },
  {
   "cell_type": "code",
   "execution_count": 11,
   "id": "992e4ad7-403c-4583-800b-e5889ad1c842",
   "metadata": {},
   "outputs": [
    {
     "name": "stdout",
     "output_type": "stream",
     "text": [
      "Remaining missing values: 0\n"
     ]
    }
   ],
   "source": [
    "# Convert Value column to numeric (ensure it's not object type)\n",
    "df[\"Value\"] = pd.to_numeric(df[\"Value\"], errors=\"coerce\")\n",
    "\n",
    "# Step 1: Fill missing values using group-wise median\n",
    "df[\"Value\"] = df.groupby([\"Area\", \"Item\", \"Year\"])[\"Value\"].transform(\n",
    "    lambda x: x.fillna(x.median()) if not x.isnull().all() else np.nan\n",
    ")\n",
    "\n",
    "# Step 2: Fill remaining NaNs using the median of that Item across all areas and years\n",
    "df[\"Value\"] = df.groupby([\"Item\"])[\"Value\"].transform(lambda x: x.fillna(x.median()))\n",
    "\n",
    "# Step 3: Fill remaining NaNs with overall median\n",
    "df[\"Value\"] = df[\"Value\"].fillna(df[\"Value\"].median())\n",
    "\n",
    "\n",
    "# Final check: Print the number of remaining NaNs\n",
    "print(f\"Remaining missing values: {df['Value'].isnull().sum()}\")"
   ]
  },
  {
   "cell_type": "code",
   "execution_count": 12,
   "id": "18c1015b-8b05-48cb-bb13-b63d526fc578",
   "metadata": {},
   "outputs": [],
   "source": [
    "# 1. Pivot the table to create columns from unique 'Element' values\n",
    "df_pivot = df.pivot_table(\n",
    "    index=[\"Year\", \"Area\", \"Item\"],\n",
    "    columns=\"Element\",\n",
    "    values=\"Value\",\n",
    "    aggfunc=\"sum\"\n",
    ").reset_index()\n",
    "\n",
    "# 2. Drop rows that have NaN in critical columns (like Area harvested, Production, Yield)\n",
    "important_columns = [\"Area harvested\", \"Production\", \"Yield\"]  # you can add more if needed\n",
    "\n",
    "df_pivot = df_pivot.dropna(subset=important_columns)\n"
   ]
  },
  {
   "cell_type": "code",
   "execution_count": 13,
   "id": "aeb2e64b-2fed-4c36-bc83-898dec13b676",
   "metadata": {},
   "outputs": [],
   "source": [
    "df_pivot = df_pivot.drop(columns=[\"Laying\", \"Milk Animals\", \"Producing Animals/Slaughtered\", \"Stocks\", \"Yield/Carcass Weight\"])\n"
   ]
  },
  {
   "cell_type": "code",
   "execution_count": 14,
   "id": "30442a37-8aaa-4d6f-bab0-a346942ad59c",
   "metadata": {},
   "outputs": [
    {
     "name": "stdout",
     "output_type": "stream",
     "text": [
      "✅ Cleaned pivoted data saved as 'Cleaned_Pivoted_Data.csv'\n"
     ]
    }
   ],
   "source": [
    "\n",
    "# 3. Optional: Save the cleaned pivoted data\n",
    "df_pivot.to_csv(\"Cleaned_Pivoted_Data.csv\", index=False)\n",
    "print(\"✅ Cleaned pivoted data saved as 'Cleaned_Pivoted_Data.csv'\")"
   ]
  },
  {
   "cell_type": "code",
   "execution_count": 15,
   "id": "07382e04-0f96-4a73-bd22-5be770c1dea7",
   "metadata": {},
   "outputs": [
    {
     "data": {
      "text/html": [
       "<div>\n",
       "<style scoped>\n",
       "    .dataframe tbody tr th:only-of-type {\n",
       "        vertical-align: middle;\n",
       "    }\n",
       "\n",
       "    .dataframe tbody tr th {\n",
       "        vertical-align: top;\n",
       "    }\n",
       "\n",
       "    .dataframe thead th {\n",
       "        text-align: right;\n",
       "    }\n",
       "</style>\n",
       "<table border=\"1\" class=\"dataframe\">\n",
       "  <thead>\n",
       "    <tr style=\"text-align: right;\">\n",
       "      <th>Element</th>\n",
       "      <th>Year</th>\n",
       "      <th>Area</th>\n",
       "      <th>Item</th>\n",
       "      <th>Area harvested</th>\n",
       "      <th>Production</th>\n",
       "      <th>Yield</th>\n",
       "    </tr>\n",
       "  </thead>\n",
       "  <tbody>\n",
       "    <tr>\n",
       "      <th>0</th>\n",
       "      <td>2019</td>\n",
       "      <td>Afghanistan</td>\n",
       "      <td>Almonds, in shell</td>\n",
       "      <td>29203.0</td>\n",
       "      <td>38205.00</td>\n",
       "      <td>1308.3</td>\n",
       "    </tr>\n",
       "    <tr>\n",
       "      <th>1</th>\n",
       "      <td>2019</td>\n",
       "      <td>Afghanistan</td>\n",
       "      <td>Anise, badian, coriander, cumin, caraway, fenn...</td>\n",
       "      <td>25293.0</td>\n",
       "      <td>17807.76</td>\n",
       "      <td>704.1</td>\n",
       "    </tr>\n",
       "    <tr>\n",
       "      <th>2</th>\n",
       "      <td>2019</td>\n",
       "      <td>Afghanistan</td>\n",
       "      <td>Apples</td>\n",
       "      <td>27559.0</td>\n",
       "      <td>250324.00</td>\n",
       "      <td>9083.2</td>\n",
       "    </tr>\n",
       "  </tbody>\n",
       "</table>\n",
       "</div>"
      ],
      "text/plain": [
       "Element  Year         Area                                               Item  \\\n",
       "0        2019  Afghanistan                                  Almonds, in shell   \n",
       "1        2019  Afghanistan  Anise, badian, coriander, cumin, caraway, fenn...   \n",
       "2        2019  Afghanistan                                             Apples   \n",
       "\n",
       "Element  Area harvested  Production   Yield  \n",
       "0               29203.0    38205.00  1308.3  \n",
       "1               25293.0    17807.76   704.1  \n",
       "2               27559.0   250324.00  9083.2  "
      ]
     },
     "execution_count": 15,
     "metadata": {},
     "output_type": "execute_result"
    }
   ],
   "source": [
    "df_pivot.head(3)"
   ]
  },
  {
   "cell_type": "code",
   "execution_count": 16,
   "id": "030e3595-0414-4815-a5d7-b70df8fdedd0",
   "metadata": {},
   "outputs": [
    {
     "data": {
      "text/plain": [
       "Element\n",
       "Year              0\n",
       "Area              0\n",
       "Item              0\n",
       "Area harvested    0\n",
       "Production        0\n",
       "Yield             0\n",
       "dtype: int64"
      ]
     },
     "execution_count": 16,
     "metadata": {},
     "output_type": "execute_result"
    }
   ],
   "source": [
    "df_pivot.isnull().sum()"
   ]
  },
  {
   "cell_type": "code",
   "execution_count": 17,
   "id": "dea2dc0f-a79f-46c5-afdf-9a3dcf45a831",
   "metadata": {},
   "outputs": [],
   "source": [
    "import pandas as pd\n",
    "import pickle\n",
    "from sklearn.model_selection import train_test_split\n",
    "from sklearn.ensemble import RandomForestRegressor\n",
    "\n",
    "# Load your full dataset before encoding\n",
    "df_full = pd.read_csv(r\"C:\\Users\\R.R. Dharun raagav\\Desktop\\Shanmuga priya projects Ml project\\Cleaned_Pivoted_Data.csv\")  # original raw format\n",
    "\n",
    "# Fix duplicate columns (important!)\n",
    "df_full = df_full.loc[:, ~df_full.columns.duplicated()]\n",
    "\n",
    "# Optional: ensure \"Year\" column exists and is numeric\n",
    "df_full[\"Year\"] = pd.to_numeric(df_full[\"Year\"], errors='coerce')\n",
    "\n",
    "# Split dataset: train until 2023\n",
    "train_df = df_full[df_full[\"Year\"] <= 2023]\n",
    "\n",
    "# One-hot encode categorical columns\n",
    "df_encoded = pd.get_dummies(train_df, columns=[\"Area\", \"Item\", \"Year\"])\n",
    "\n",
    "# Separate features and label\n",
    "X = df_encoded.drop(\"Production\", axis=1)\n",
    "y = df_encoded[\"Production\"]\n",
    "\n",
    "# Train-test split\n",
    "X_train, X_test, y_train, y_test = train_test_split(\n",
    "    X, y, test_size=0.2, random_state=42\n",
    ")\n",
    "\n",
    "# Train model\n",
    "model = RandomForestRegressor(n_estimators=100, random_state=42)\n",
    "model.fit(X_train, y_train)\n",
    "\n",
    "# Save model\n",
    "with open(\"crop_production_model.pkl\", \"wb\") as f:\n",
    "    pickle.dump(model, f)\n",
    "\n",
    "# Save encoded column list for Streamlit app\n",
    "with open(\"final_encoded_dataset.pkl\", \"wb\") as f:\n",
    "    pickle.dump(X.columns.tolist(), f)\n"
   ]
  },
  {
   "cell_type": "code",
   "execution_count": 18,
   "id": "20b5aab2-c08d-48be-8045-c89619bcf645",
   "metadata": {},
   "outputs": [
    {
     "name": "stdout",
     "output_type": "stream",
     "text": [
      "R² Score: 0.8901659853905226\n",
      "MSE: 26292439971558.484\n"
     ]
    }
   ],
   "source": [
    "from sklearn.metrics import r2_score, mean_squared_error\n",
    "\n",
    "y_pred = model.predict(X_test)\n",
    "\n",
    "\n",
    "print(\"R² Score:\", r2_score(y_test, y_pred))\n",
    "print(\"MSE:\", mean_squared_error(y_test, y_pred))"
   ]
  },
  {
   "cell_type": "code",
   "execution_count": 19,
   "id": "0e99626a",
   "metadata": {},
   "outputs": [
    {
     "data": {
      "image/png": "[encoded data removed]",
      "text/plain": [
       "<Figure size 300x200 with 1 Axes>"
      ]
     },
     "metadata": {},
     "output_type": "display_data"
    },
    {
     "data": {
      "image/png": "[encoded data removed]",
      "text/plain": [
       "<Figure size 300x200 with 1 Axes>"
      ]
     },
     "metadata": {},
     "output_type": "display_data"
    }
   ],
   "source": [
    "import matplotlib.pyplot as plt\n",
    "import seaborn as sns\n",
    "from sklearn.metrics import mean_squared_error, r2_score\n",
    "\n",
    "# Predict using the trained model\n",
    "y_pred = model.predict(X_test)\n",
    "\n",
    "# 1️⃣ Actual vs Predicted Plot\n",
    "plt.figure(figsize=(3, 2))\n",
    "sns.scatterplot(x=y_test, y=y_pred, color='royalblue')\n",
    "plt.plot([y_test.min(), y_test.max()], [y_test.min(), y_test.max()], color='red', lw=2)\n",
    "plt.xlabel(\"Actual Production\")\n",
    "plt.ylabel(\"Predicted Production\")\n",
    "plt.title(\"Actual vs Predicted Production\")\n",
    "plt.grid(True)\n",
    "plt.show()\n",
    "\n",
    "# 2️⃣ Residual Plot\n",
    "residuals = y_test - y_pred\n",
    "plt.figure(figsize=(3, 2))\n",
    "sns.histplot(residuals, bins=30, kde=True, color='darkorange')\n",
    "plt.xlabel(\"Residuals (Actual - Predicted)\")\n",
    "plt.title(\"Residual Distribution\")\n",
    "plt.grid(True)\n",
    "plt.show()\n"
   ]
  }
 ],
 "metadata": {
  "kernelspec": {
   "display_name": "base",
   "language": "python",
   "name": "python3"
  },
  "language_info": {
   "codemirror_mode": {
    "name": "ipython",
    "version": 3
   },
   "file_extension": ".py",
   "mimetype": "text/x-python",
   "name": "python",
   "nbconvert_exporter": "python",
   "pygments_lexer": "ipython3",
   "version": "3.12.7"
  }
 },
 "nbformat": 4,
 "nbformat_minor": 5
}
